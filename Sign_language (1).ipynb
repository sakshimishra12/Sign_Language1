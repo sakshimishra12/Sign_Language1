{
  "nbformat": 4,
  "nbformat_minor": 0,
  "metadata": {
    "colab": {
      "name": "Sign language.ipynb",
      "provenance": [],
      "collapsed_sections": []
    },
    "kernelspec": {
      "name": "python3",
      "display_name": "Python 3"
    }
  },
  "cells": [
    {
      "cell_type": "code",
      "metadata": {
        "id": "SWJINXaV-gU1"
      },
      "source": [
        "import keras\n",
        "import numpy as np\n",
        "import pandas as pd\n",
        "import cv2 \n",
        "from keras.models import Sequential \n",
        "from keras.layers import Conv2D,MaxPooling2D, Dense,Flatten\n",
        "from keras.datasets import mnist \n",
        "import matplotlib.pyplot as plt\n",
        "from keras.utils import np_utils\n",
        "from keras.optimizers import SGD"
      ],
      "execution_count": 26,
      "outputs": []
    },
    {
      "cell_type": "code",
      "metadata": {
        "id": "8-_VjoDZBvB_",
        "outputId": "c724f57a-ab2c-42e1-dfdd-dee21b33e697",
        "colab": {
          "base_uri": "https://localhost:8080/",
          "height": 280
        }
      },
      "source": [
        "!pip install PyDrive"
      ],
      "execution_count": 27,
      "outputs": [
        {
          "output_type": "stream",
          "text": [
            "Requirement already satisfied: PyDrive in /usr/local/lib/python3.6/dist-packages (1.3.1)\n",
            "Requirement already satisfied: oauth2client>=4.0.0 in /usr/local/lib/python3.6/dist-packages (from PyDrive) (4.1.3)\n",
            "Requirement already satisfied: google-api-python-client>=1.2 in /usr/local/lib/python3.6/dist-packages (from PyDrive) (1.7.12)\n",
            "Requirement already satisfied: PyYAML>=3.0 in /usr/local/lib/python3.6/dist-packages (from PyDrive) (3.13)\n",
            "Requirement already satisfied: six>=1.6.1 in /usr/local/lib/python3.6/dist-packages (from oauth2client>=4.0.0->PyDrive) (1.15.0)\n",
            "Requirement already satisfied: httplib2>=0.9.1 in /usr/local/lib/python3.6/dist-packages (from oauth2client>=4.0.0->PyDrive) (0.17.4)\n",
            "Requirement already satisfied: pyasn1-modules>=0.0.5 in /usr/local/lib/python3.6/dist-packages (from oauth2client>=4.0.0->PyDrive) (0.2.8)\n",
            "Requirement already satisfied: pyasn1>=0.1.7 in /usr/local/lib/python3.6/dist-packages (from oauth2client>=4.0.0->PyDrive) (0.4.8)\n",
            "Requirement already satisfied: rsa>=3.1.4 in /usr/local/lib/python3.6/dist-packages (from oauth2client>=4.0.0->PyDrive) (4.6)\n",
            "Requirement already satisfied: google-auth>=1.4.1 in /usr/local/lib/python3.6/dist-packages (from google-api-python-client>=1.2->PyDrive) (1.17.2)\n",
            "Requirement already satisfied: uritemplate<4dev,>=3.0.0 in /usr/local/lib/python3.6/dist-packages (from google-api-python-client>=1.2->PyDrive) (3.0.1)\n",
            "Requirement already satisfied: google-auth-httplib2>=0.0.3 in /usr/local/lib/python3.6/dist-packages (from google-api-python-client>=1.2->PyDrive) (0.0.4)\n",
            "Requirement already satisfied: cachetools<5.0,>=2.0.0 in /usr/local/lib/python3.6/dist-packages (from google-auth>=1.4.1->google-api-python-client>=1.2->PyDrive) (4.1.1)\n",
            "Requirement already satisfied: setuptools>=40.3.0 in /usr/local/lib/python3.6/dist-packages (from google-auth>=1.4.1->google-api-python-client>=1.2->PyDrive) (50.3.0)\n"
          ],
          "name": "stdout"
        }
      ]
    },
    {
      "cell_type": "code",
      "metadata": {
        "id": "j_0uEGlJC8C_"
      },
      "source": [
        "import os\n",
        "from pydrive.auth import GoogleAuth\n",
        "from pydrive.drive import GoogleDrive\n",
        "from google.colab import auth\n",
        "from oauth2client.client import GoogleCredentials"
      ],
      "execution_count": 28,
      "outputs": []
    },
    {
      "cell_type": "code",
      "metadata": {
        "id": "TB_Ef8NMDI7t"
      },
      "source": [
        "auth.authenticate_user()\n",
        "gauth = GoogleAuth()\n",
        "gauth.credentials = GoogleCredentials.get_application_default()\n",
        "drive = GoogleDrive(gauth)"
      ],
      "execution_count": 29,
      "outputs": []
    },
    {
      "cell_type": "code",
      "metadata": {
        "id": "2tnTLwRfDUVt"
      },
      "source": [
        "download = drive.CreateFile({'id': '1jqr4Y0JMTi4DaKaQuNiS8ufE0_cyK6RI'})\n",
        "download.GetContentFile('train.csv')\n",
        "train = pd.read_csv('train.csv')"
      ],
      "execution_count": 30,
      "outputs": []
    },
    {
      "cell_type": "code",
      "metadata": {
        "id": "tH5H6EbNEt1s"
      },
      "source": [
        "download = drive.CreateFile({'id': '1RbDULDdvQ_l8yRjqumh0f-kZi5TpYfuq'})\n",
        "download.GetContentFile('test.csv')\n",
        "test = pd.read_csv('test.csv')"
      ],
      "execution_count": 31,
      "outputs": []
    },
    {
      "cell_type": "code",
      "metadata": {
        "id": "Qyuvwi9UE-1o",
        "outputId": "e8e2e699-f6fe-43a5-a492-c29cd404a3a7",
        "colab": {
          "base_uri": "https://localhost:8080/",
          "height": 489
        }
      },
      "source": [
        "display(train.info())\n",
        "\n",
        "display(test.info())\n",
        "\n",
        "display(train.head(n = 2))\n",
        "display(test.head(n = 2))\n"
      ],
      "execution_count": 32,
      "outputs": [
        {
          "output_type": "stream",
          "text": [
            "<class 'pandas.core.frame.DataFrame'>\n",
            "RangeIndex: 27455 entries, 0 to 27454\n",
            "Columns: 785 entries, label to pixel784\n",
            "dtypes: int64(785)\n",
            "memory usage: 164.4 MB\n"
          ],
          "name": "stdout"
        },
        {
          "output_type": "display_data",
          "data": {
            "text/plain": [
              "None"
            ]
          },
          "metadata": {
            "tags": []
          }
        },
        {
          "output_type": "stream",
          "text": [
            "<class 'pandas.core.frame.DataFrame'>\n",
            "RangeIndex: 7172 entries, 0 to 7171\n",
            "Columns: 785 entries, label to pixel784\n",
            "dtypes: int64(785)\n",
            "memory usage: 43.0 MB\n"
          ],
          "name": "stdout"
        },
        {
          "output_type": "display_data",
          "data": {
            "text/plain": [
              "None"
            ]
          },
          "metadata": {
            "tags": []
          }
        },
        {
          "output_type": "display_data",
          "data": {
            "text/html": [
              "<div>\n",
              "<style scoped>\n",
              "    .dataframe tbody tr th:only-of-type {\n",
              "        vertical-align: middle;\n",
              "    }\n",
              "\n",
              "    .dataframe tbody tr th {\n",
              "        vertical-align: top;\n",
              "    }\n",
              "\n",
              "    .dataframe thead th {\n",
              "        text-align: right;\n",
              "    }\n",
              "</style>\n",
              "<table border=\"1\" class=\"dataframe\">\n",
              "  <thead>\n",
              "    <tr style=\"text-align: right;\">\n",
              "      <th></th>\n",
              "      <th>label</th>\n",
              "      <th>pixel1</th>\n",
              "      <th>pixel2</th>\n",
              "      <th>pixel3</th>\n",
              "      <th>pixel4</th>\n",
              "      <th>pixel5</th>\n",
              "      <th>pixel6</th>\n",
              "      <th>pixel7</th>\n",
              "      <th>pixel8</th>\n",
              "      <th>pixel9</th>\n",
              "      <th>pixel10</th>\n",
              "      <th>pixel11</th>\n",
              "      <th>pixel12</th>\n",
              "      <th>pixel13</th>\n",
              "      <th>pixel14</th>\n",
              "      <th>pixel15</th>\n",
              "      <th>pixel16</th>\n",
              "      <th>pixel17</th>\n",
              "      <th>pixel18</th>\n",
              "      <th>pixel19</th>\n",
              "      <th>pixel20</th>\n",
              "      <th>pixel21</th>\n",
              "      <th>pixel22</th>\n",
              "      <th>pixel23</th>\n",
              "      <th>pixel24</th>\n",
              "      <th>pixel25</th>\n",
              "      <th>pixel26</th>\n",
              "      <th>pixel27</th>\n",
              "      <th>pixel28</th>\n",
              "      <th>pixel29</th>\n",
              "      <th>pixel30</th>\n",
              "      <th>pixel31</th>\n",
              "      <th>pixel32</th>\n",
              "      <th>pixel33</th>\n",
              "      <th>pixel34</th>\n",
              "      <th>pixel35</th>\n",
              "      <th>pixel36</th>\n",
              "      <th>pixel37</th>\n",
              "      <th>pixel38</th>\n",
              "      <th>pixel39</th>\n",
              "      <th>...</th>\n",
              "      <th>pixel745</th>\n",
              "      <th>pixel746</th>\n",
              "      <th>pixel747</th>\n",
              "      <th>pixel748</th>\n",
              "      <th>pixel749</th>\n",
              "      <th>pixel750</th>\n",
              "      <th>pixel751</th>\n",
              "      <th>pixel752</th>\n",
              "      <th>pixel753</th>\n",
              "      <th>pixel754</th>\n",
              "      <th>pixel755</th>\n",
              "      <th>pixel756</th>\n",
              "      <th>pixel757</th>\n",
              "      <th>pixel758</th>\n",
              "      <th>pixel759</th>\n",
              "      <th>pixel760</th>\n",
              "      <th>pixel761</th>\n",
              "      <th>pixel762</th>\n",
              "      <th>pixel763</th>\n",
              "      <th>pixel764</th>\n",
              "      <th>pixel765</th>\n",
              "      <th>pixel766</th>\n",
              "      <th>pixel767</th>\n",
              "      <th>pixel768</th>\n",
              "      <th>pixel769</th>\n",
              "      <th>pixel770</th>\n",
              "      <th>pixel771</th>\n",
              "      <th>pixel772</th>\n",
              "      <th>pixel773</th>\n",
              "      <th>pixel774</th>\n",
              "      <th>pixel775</th>\n",
              "      <th>pixel776</th>\n",
              "      <th>pixel777</th>\n",
              "      <th>pixel778</th>\n",
              "      <th>pixel779</th>\n",
              "      <th>pixel780</th>\n",
              "      <th>pixel781</th>\n",
              "      <th>pixel782</th>\n",
              "      <th>pixel783</th>\n",
              "      <th>pixel784</th>\n",
              "    </tr>\n",
              "  </thead>\n",
              "  <tbody>\n",
              "    <tr>\n",
              "      <th>0</th>\n",
              "      <td>3</td>\n",
              "      <td>107</td>\n",
              "      <td>118</td>\n",
              "      <td>127</td>\n",
              "      <td>134</td>\n",
              "      <td>139</td>\n",
              "      <td>143</td>\n",
              "      <td>146</td>\n",
              "      <td>150</td>\n",
              "      <td>153</td>\n",
              "      <td>156</td>\n",
              "      <td>158</td>\n",
              "      <td>160</td>\n",
              "      <td>163</td>\n",
              "      <td>165</td>\n",
              "      <td>159</td>\n",
              "      <td>166</td>\n",
              "      <td>168</td>\n",
              "      <td>170</td>\n",
              "      <td>170</td>\n",
              "      <td>171</td>\n",
              "      <td>171</td>\n",
              "      <td>171</td>\n",
              "      <td>172</td>\n",
              "      <td>171</td>\n",
              "      <td>171</td>\n",
              "      <td>170</td>\n",
              "      <td>170</td>\n",
              "      <td>169</td>\n",
              "      <td>111</td>\n",
              "      <td>121</td>\n",
              "      <td>129</td>\n",
              "      <td>135</td>\n",
              "      <td>141</td>\n",
              "      <td>144</td>\n",
              "      <td>148</td>\n",
              "      <td>151</td>\n",
              "      <td>154</td>\n",
              "      <td>157</td>\n",
              "      <td>160</td>\n",
              "      <td>...</td>\n",
              "      <td>205</td>\n",
              "      <td>206</td>\n",
              "      <td>206</td>\n",
              "      <td>207</td>\n",
              "      <td>207</td>\n",
              "      <td>206</td>\n",
              "      <td>206</td>\n",
              "      <td>204</td>\n",
              "      <td>205</td>\n",
              "      <td>204</td>\n",
              "      <td>203</td>\n",
              "      <td>202</td>\n",
              "      <td>142</td>\n",
              "      <td>151</td>\n",
              "      <td>160</td>\n",
              "      <td>172</td>\n",
              "      <td>196</td>\n",
              "      <td>188</td>\n",
              "      <td>188</td>\n",
              "      <td>190</td>\n",
              "      <td>135</td>\n",
              "      <td>96</td>\n",
              "      <td>86</td>\n",
              "      <td>77</td>\n",
              "      <td>77</td>\n",
              "      <td>79</td>\n",
              "      <td>176</td>\n",
              "      <td>205</td>\n",
              "      <td>207</td>\n",
              "      <td>207</td>\n",
              "      <td>207</td>\n",
              "      <td>207</td>\n",
              "      <td>207</td>\n",
              "      <td>207</td>\n",
              "      <td>206</td>\n",
              "      <td>206</td>\n",
              "      <td>206</td>\n",
              "      <td>204</td>\n",
              "      <td>203</td>\n",
              "      <td>202</td>\n",
              "    </tr>\n",
              "    <tr>\n",
              "      <th>1</th>\n",
              "      <td>6</td>\n",
              "      <td>155</td>\n",
              "      <td>157</td>\n",
              "      <td>156</td>\n",
              "      <td>156</td>\n",
              "      <td>156</td>\n",
              "      <td>157</td>\n",
              "      <td>156</td>\n",
              "      <td>158</td>\n",
              "      <td>158</td>\n",
              "      <td>157</td>\n",
              "      <td>158</td>\n",
              "      <td>156</td>\n",
              "      <td>154</td>\n",
              "      <td>154</td>\n",
              "      <td>153</td>\n",
              "      <td>152</td>\n",
              "      <td>151</td>\n",
              "      <td>149</td>\n",
              "      <td>149</td>\n",
              "      <td>148</td>\n",
              "      <td>147</td>\n",
              "      <td>146</td>\n",
              "      <td>144</td>\n",
              "      <td>142</td>\n",
              "      <td>143</td>\n",
              "      <td>138</td>\n",
              "      <td>92</td>\n",
              "      <td>108</td>\n",
              "      <td>158</td>\n",
              "      <td>159</td>\n",
              "      <td>159</td>\n",
              "      <td>159</td>\n",
              "      <td>160</td>\n",
              "      <td>160</td>\n",
              "      <td>160</td>\n",
              "      <td>160</td>\n",
              "      <td>160</td>\n",
              "      <td>160</td>\n",
              "      <td>160</td>\n",
              "      <td>...</td>\n",
              "      <td>100</td>\n",
              "      <td>78</td>\n",
              "      <td>120</td>\n",
              "      <td>157</td>\n",
              "      <td>168</td>\n",
              "      <td>107</td>\n",
              "      <td>99</td>\n",
              "      <td>121</td>\n",
              "      <td>133</td>\n",
              "      <td>97</td>\n",
              "      <td>95</td>\n",
              "      <td>120</td>\n",
              "      <td>135</td>\n",
              "      <td>116</td>\n",
              "      <td>95</td>\n",
              "      <td>79</td>\n",
              "      <td>69</td>\n",
              "      <td>86</td>\n",
              "      <td>139</td>\n",
              "      <td>173</td>\n",
              "      <td>200</td>\n",
              "      <td>185</td>\n",
              "      <td>175</td>\n",
              "      <td>198</td>\n",
              "      <td>124</td>\n",
              "      <td>118</td>\n",
              "      <td>94</td>\n",
              "      <td>140</td>\n",
              "      <td>133</td>\n",
              "      <td>84</td>\n",
              "      <td>69</td>\n",
              "      <td>149</td>\n",
              "      <td>128</td>\n",
              "      <td>87</td>\n",
              "      <td>94</td>\n",
              "      <td>163</td>\n",
              "      <td>175</td>\n",
              "      <td>103</td>\n",
              "      <td>135</td>\n",
              "      <td>149</td>\n",
              "    </tr>\n",
              "  </tbody>\n",
              "</table>\n",
              "<p>2 rows × 785 columns</p>\n",
              "</div>"
            ],
            "text/plain": [
              "   label  pixel1  pixel2  pixel3  ...  pixel781  pixel782  pixel783  pixel784\n",
              "0      3     107     118     127  ...       206       204       203       202\n",
              "1      6     155     157     156  ...       175       103       135       149\n",
              "\n",
              "[2 rows x 785 columns]"
            ]
          },
          "metadata": {
            "tags": []
          }
        },
        {
          "output_type": "display_data",
          "data": {
            "text/html": [
              "<div>\n",
              "<style scoped>\n",
              "    .dataframe tbody tr th:only-of-type {\n",
              "        vertical-align: middle;\n",
              "    }\n",
              "\n",
              "    .dataframe tbody tr th {\n",
              "        vertical-align: top;\n",
              "    }\n",
              "\n",
              "    .dataframe thead th {\n",
              "        text-align: right;\n",
              "    }\n",
              "</style>\n",
              "<table border=\"1\" class=\"dataframe\">\n",
              "  <thead>\n",
              "    <tr style=\"text-align: right;\">\n",
              "      <th></th>\n",
              "      <th>label</th>\n",
              "      <th>pixel1</th>\n",
              "      <th>pixel2</th>\n",
              "      <th>pixel3</th>\n",
              "      <th>pixel4</th>\n",
              "      <th>pixel5</th>\n",
              "      <th>pixel6</th>\n",
              "      <th>pixel7</th>\n",
              "      <th>pixel8</th>\n",
              "      <th>pixel9</th>\n",
              "      <th>pixel10</th>\n",
              "      <th>pixel11</th>\n",
              "      <th>pixel12</th>\n",
              "      <th>pixel13</th>\n",
              "      <th>pixel14</th>\n",
              "      <th>pixel15</th>\n",
              "      <th>pixel16</th>\n",
              "      <th>pixel17</th>\n",
              "      <th>pixel18</th>\n",
              "      <th>pixel19</th>\n",
              "      <th>pixel20</th>\n",
              "      <th>pixel21</th>\n",
              "      <th>pixel22</th>\n",
              "      <th>pixel23</th>\n",
              "      <th>pixel24</th>\n",
              "      <th>pixel25</th>\n",
              "      <th>pixel26</th>\n",
              "      <th>pixel27</th>\n",
              "      <th>pixel28</th>\n",
              "      <th>pixel29</th>\n",
              "      <th>pixel30</th>\n",
              "      <th>pixel31</th>\n",
              "      <th>pixel32</th>\n",
              "      <th>pixel33</th>\n",
              "      <th>pixel34</th>\n",
              "      <th>pixel35</th>\n",
              "      <th>pixel36</th>\n",
              "      <th>pixel37</th>\n",
              "      <th>pixel38</th>\n",
              "      <th>pixel39</th>\n",
              "      <th>...</th>\n",
              "      <th>pixel745</th>\n",
              "      <th>pixel746</th>\n",
              "      <th>pixel747</th>\n",
              "      <th>pixel748</th>\n",
              "      <th>pixel749</th>\n",
              "      <th>pixel750</th>\n",
              "      <th>pixel751</th>\n",
              "      <th>pixel752</th>\n",
              "      <th>pixel753</th>\n",
              "      <th>pixel754</th>\n",
              "      <th>pixel755</th>\n",
              "      <th>pixel756</th>\n",
              "      <th>pixel757</th>\n",
              "      <th>pixel758</th>\n",
              "      <th>pixel759</th>\n",
              "      <th>pixel760</th>\n",
              "      <th>pixel761</th>\n",
              "      <th>pixel762</th>\n",
              "      <th>pixel763</th>\n",
              "      <th>pixel764</th>\n",
              "      <th>pixel765</th>\n",
              "      <th>pixel766</th>\n",
              "      <th>pixel767</th>\n",
              "      <th>pixel768</th>\n",
              "      <th>pixel769</th>\n",
              "      <th>pixel770</th>\n",
              "      <th>pixel771</th>\n",
              "      <th>pixel772</th>\n",
              "      <th>pixel773</th>\n",
              "      <th>pixel774</th>\n",
              "      <th>pixel775</th>\n",
              "      <th>pixel776</th>\n",
              "      <th>pixel777</th>\n",
              "      <th>pixel778</th>\n",
              "      <th>pixel779</th>\n",
              "      <th>pixel780</th>\n",
              "      <th>pixel781</th>\n",
              "      <th>pixel782</th>\n",
              "      <th>pixel783</th>\n",
              "      <th>pixel784</th>\n",
              "    </tr>\n",
              "  </thead>\n",
              "  <tbody>\n",
              "    <tr>\n",
              "      <th>0</th>\n",
              "      <td>6</td>\n",
              "      <td>149</td>\n",
              "      <td>149</td>\n",
              "      <td>150</td>\n",
              "      <td>150</td>\n",
              "      <td>150</td>\n",
              "      <td>151</td>\n",
              "      <td>151</td>\n",
              "      <td>150</td>\n",
              "      <td>151</td>\n",
              "      <td>152</td>\n",
              "      <td>152</td>\n",
              "      <td>152</td>\n",
              "      <td>152</td>\n",
              "      <td>152</td>\n",
              "      <td>153</td>\n",
              "      <td>153</td>\n",
              "      <td>151</td>\n",
              "      <td>152</td>\n",
              "      <td>152</td>\n",
              "      <td>153</td>\n",
              "      <td>152</td>\n",
              "      <td>152</td>\n",
              "      <td>151</td>\n",
              "      <td>151</td>\n",
              "      <td>150</td>\n",
              "      <td>150</td>\n",
              "      <td>150</td>\n",
              "      <td>149</td>\n",
              "      <td>150</td>\n",
              "      <td>150</td>\n",
              "      <td>150</td>\n",
              "      <td>152</td>\n",
              "      <td>152</td>\n",
              "      <td>151</td>\n",
              "      <td>152</td>\n",
              "      <td>152</td>\n",
              "      <td>152</td>\n",
              "      <td>152</td>\n",
              "      <td>152</td>\n",
              "      <td>...</td>\n",
              "      <td>131</td>\n",
              "      <td>134</td>\n",
              "      <td>144</td>\n",
              "      <td>147</td>\n",
              "      <td>125</td>\n",
              "      <td>87</td>\n",
              "      <td>87</td>\n",
              "      <td>103</td>\n",
              "      <td>107</td>\n",
              "      <td>110</td>\n",
              "      <td>116</td>\n",
              "      <td>113</td>\n",
              "      <td>75</td>\n",
              "      <td>74</td>\n",
              "      <td>74</td>\n",
              "      <td>74</td>\n",
              "      <td>76</td>\n",
              "      <td>74</td>\n",
              "      <td>82</td>\n",
              "      <td>134</td>\n",
              "      <td>168</td>\n",
              "      <td>155</td>\n",
              "      <td>146</td>\n",
              "      <td>137</td>\n",
              "      <td>145</td>\n",
              "      <td>146</td>\n",
              "      <td>149</td>\n",
              "      <td>135</td>\n",
              "      <td>124</td>\n",
              "      <td>125</td>\n",
              "      <td>138</td>\n",
              "      <td>148</td>\n",
              "      <td>127</td>\n",
              "      <td>89</td>\n",
              "      <td>82</td>\n",
              "      <td>96</td>\n",
              "      <td>106</td>\n",
              "      <td>112</td>\n",
              "      <td>120</td>\n",
              "      <td>107</td>\n",
              "    </tr>\n",
              "    <tr>\n",
              "      <th>1</th>\n",
              "      <td>5</td>\n",
              "      <td>126</td>\n",
              "      <td>128</td>\n",
              "      <td>131</td>\n",
              "      <td>132</td>\n",
              "      <td>133</td>\n",
              "      <td>134</td>\n",
              "      <td>135</td>\n",
              "      <td>135</td>\n",
              "      <td>136</td>\n",
              "      <td>138</td>\n",
              "      <td>137</td>\n",
              "      <td>137</td>\n",
              "      <td>138</td>\n",
              "      <td>138</td>\n",
              "      <td>139</td>\n",
              "      <td>137</td>\n",
              "      <td>142</td>\n",
              "      <td>140</td>\n",
              "      <td>138</td>\n",
              "      <td>139</td>\n",
              "      <td>137</td>\n",
              "      <td>137</td>\n",
              "      <td>136</td>\n",
              "      <td>135</td>\n",
              "      <td>134</td>\n",
              "      <td>133</td>\n",
              "      <td>134</td>\n",
              "      <td>132</td>\n",
              "      <td>129</td>\n",
              "      <td>132</td>\n",
              "      <td>134</td>\n",
              "      <td>135</td>\n",
              "      <td>135</td>\n",
              "      <td>137</td>\n",
              "      <td>139</td>\n",
              "      <td>139</td>\n",
              "      <td>139</td>\n",
              "      <td>140</td>\n",
              "      <td>141</td>\n",
              "      <td>...</td>\n",
              "      <td>114</td>\n",
              "      <td>112</td>\n",
              "      <td>89</td>\n",
              "      <td>48</td>\n",
              "      <td>133</td>\n",
              "      <td>194</td>\n",
              "      <td>182</td>\n",
              "      <td>185</td>\n",
              "      <td>184</td>\n",
              "      <td>184</td>\n",
              "      <td>182</td>\n",
              "      <td>181</td>\n",
              "      <td>172</td>\n",
              "      <td>174</td>\n",
              "      <td>177</td>\n",
              "      <td>178</td>\n",
              "      <td>178</td>\n",
              "      <td>179</td>\n",
              "      <td>181</td>\n",
              "      <td>183</td>\n",
              "      <td>187</td>\n",
              "      <td>175</td>\n",
              "      <td>165</td>\n",
              "      <td>154</td>\n",
              "      <td>118</td>\n",
              "      <td>107</td>\n",
              "      <td>100</td>\n",
              "      <td>75</td>\n",
              "      <td>96</td>\n",
              "      <td>83</td>\n",
              "      <td>47</td>\n",
              "      <td>104</td>\n",
              "      <td>194</td>\n",
              "      <td>183</td>\n",
              "      <td>186</td>\n",
              "      <td>184</td>\n",
              "      <td>184</td>\n",
              "      <td>184</td>\n",
              "      <td>182</td>\n",
              "      <td>180</td>\n",
              "    </tr>\n",
              "  </tbody>\n",
              "</table>\n",
              "<p>2 rows × 785 columns</p>\n",
              "</div>"
            ],
            "text/plain": [
              "   label  pixel1  pixel2  pixel3  ...  pixel781  pixel782  pixel783  pixel784\n",
              "0      6     149     149     150  ...       106       112       120       107\n",
              "1      5     126     128     131  ...       184       184       182       180\n",
              "\n",
              "[2 rows x 785 columns]"
            ]
          },
          "metadata": {
            "tags": []
          }
        }
      ]
    },
    {
      "cell_type": "code",
      "metadata": {
        "id": "NBl9x716FEZ0"
      },
      "source": [
        "train_Y = train['label']\n",
        "test_Y = test['label']\n",
        "train_X = train.drop(['label'],axis = 1)\n",
        "test_X = test.drop(['label'],axis = 1)"
      ],
      "execution_count": 33,
      "outputs": []
    },
    {
      "cell_type": "code",
      "metadata": {
        "id": "SXfDYK8iFJxv"
      },
      "source": [
        "train_X = train_X.astype('float32') / 255\n",
        "test_X = test_X.astype('float32')/255"
      ],
      "execution_count": 34,
      "outputs": []
    },
    {
      "cell_type": "code",
      "metadata": {
        "id": "qrPawxAqFP2q",
        "outputId": "157f6426-c6a7-462a-9f1b-16dc018c113b",
        "colab": {
          "base_uri": "https://localhost:8080/",
          "height": 225
        }
      },
      "source": [
        "display(train_Y)"
      ],
      "execution_count": 35,
      "outputs": [
        {
          "output_type": "display_data",
          "data": {
            "text/plain": [
              "0         3\n",
              "1         6\n",
              "2         2\n",
              "3         2\n",
              "4        13\n",
              "         ..\n",
              "27450    13\n",
              "27451    23\n",
              "27452    18\n",
              "27453    17\n",
              "27454    23\n",
              "Name: label, Length: 27455, dtype: int64"
            ]
          },
          "metadata": {
            "tags": []
          }
        }
      ]
    },
    {
      "cell_type": "code",
      "metadata": {
        "id": "9YGX3AdeFR0G"
      },
      "source": [
        "train_X = train_X.values.reshape(27455,784)\n",
        "test_X = test_X.values.reshape(7172,784)\n",
        "train_Y = keras.utils.to_categorical(train_Y,26)\n",
        "test_Y = keras.utils.to_categorical(test_Y,26)"
      ],
      "execution_count": 36,
      "outputs": []
    },
    {
      "cell_type": "code",
      "metadata": {
        "id": "pB8NskypFW03"
      },
      "source": [
        "model = Sequential()\n",
        "model.add(Dense(units=128,activation=\"relu\",input_shape=(784,)))\n",
        "model.add(Dense(units=128,activation=\"relu\"))\n",
        "model.add(Dense(units=128,activation=\"relu\"))\n",
        "model.add(Dense(units=26,activation=\"softmax\"))"
      ],
      "execution_count": 37,
      "outputs": []
    },
    {
      "cell_type": "code",
      "metadata": {
        "id": "_QfFvLphFbvv",
        "outputId": "50753ba2-579b-4db2-ec29-0d0b29349b37",
        "colab": {
          "base_uri": "https://localhost:8080/",
          "height": 1000
        }
      },
      "source": [
        "model.compile(optimizer=SGD(0.001),loss=\"categorical_crossentropy\",metrics=[\"accuracy\"])\n",
        "model.fit(train_X,train_Y,batch_size=32,epochs=100,verbose=1)"
      ],
      "execution_count": 38,
      "outputs": [
        {
          "output_type": "stream",
          "text": [
            "Epoch 1/100\n",
            "858/858 [==============================] - 2s 2ms/step - loss: 3.2147 - accuracy: 0.0681\n",
            "Epoch 2/100\n",
            "858/858 [==============================] - 2s 2ms/step - loss: 3.1256 - accuracy: 0.1539\n",
            "Epoch 3/100\n",
            "858/858 [==============================] - 2s 2ms/step - loss: 3.0577 - accuracy: 0.1943\n",
            "Epoch 4/100\n",
            "858/858 [==============================] - 2s 2ms/step - loss: 2.9834 - accuracy: 0.2105\n",
            "Epoch 5/100\n",
            "858/858 [==============================] - 2s 2ms/step - loss: 2.8875 - accuracy: 0.2395\n",
            "Epoch 6/100\n",
            "858/858 [==============================] - 2s 2ms/step - loss: 2.7715 - accuracy: 0.2653\n",
            "Epoch 7/100\n",
            "858/858 [==============================] - 2s 2ms/step - loss: 2.6350 - accuracy: 0.2890\n",
            "Epoch 8/100\n",
            "858/858 [==============================] - 2s 2ms/step - loss: 2.4878 - accuracy: 0.3191\n",
            "Epoch 9/100\n",
            "858/858 [==============================] - 2s 2ms/step - loss: 2.3402 - accuracy: 0.3456\n",
            "Epoch 10/100\n",
            "858/858 [==============================] - 2s 2ms/step - loss: 2.1980 - accuracy: 0.3705\n",
            "Epoch 11/100\n",
            "858/858 [==============================] - 2s 2ms/step - loss: 2.0688 - accuracy: 0.3989\n",
            "Epoch 12/100\n",
            "858/858 [==============================] - 2s 2ms/step - loss: 1.9546 - accuracy: 0.4262\n",
            "Epoch 13/100\n",
            "858/858 [==============================] - 2s 2ms/step - loss: 1.8544 - accuracy: 0.4580\n",
            "Epoch 14/100\n",
            "858/858 [==============================] - 2s 2ms/step - loss: 1.7680 - accuracy: 0.4813\n",
            "Epoch 15/100\n",
            "858/858 [==============================] - 2s 2ms/step - loss: 1.6903 - accuracy: 0.5029\n",
            "Epoch 16/100\n",
            "858/858 [==============================] - 2s 2ms/step - loss: 1.6188 - accuracy: 0.5234\n",
            "Epoch 17/100\n",
            "858/858 [==============================] - 2s 2ms/step - loss: 1.5540 - accuracy: 0.5411\n",
            "Epoch 18/100\n",
            "858/858 [==============================] - 2s 2ms/step - loss: 1.4943 - accuracy: 0.5594\n",
            "Epoch 19/100\n",
            "858/858 [==============================] - 2s 2ms/step - loss: 1.4366 - accuracy: 0.5765\n",
            "Epoch 20/100\n",
            "858/858 [==============================] - 2s 2ms/step - loss: 1.3842 - accuracy: 0.5913\n",
            "Epoch 21/100\n",
            "858/858 [==============================] - 2s 2ms/step - loss: 1.3333 - accuracy: 0.6088\n",
            "Epoch 22/100\n",
            "858/858 [==============================] - 2s 2ms/step - loss: 1.2859 - accuracy: 0.6204\n",
            "Epoch 23/100\n",
            "858/858 [==============================] - 2s 2ms/step - loss: 1.2403 - accuracy: 0.6345\n",
            "Epoch 24/100\n",
            "858/858 [==============================] - 2s 2ms/step - loss: 1.1977 - accuracy: 0.6475\n",
            "Epoch 25/100\n",
            "858/858 [==============================] - 2s 2ms/step - loss: 1.1572 - accuracy: 0.6577\n",
            "Epoch 26/100\n",
            "858/858 [==============================] - 2s 2ms/step - loss: 1.1185 - accuracy: 0.6691\n",
            "Epoch 27/100\n",
            "858/858 [==============================] - 2s 2ms/step - loss: 1.0789 - accuracy: 0.6814\n",
            "Epoch 28/100\n",
            "858/858 [==============================] - 2s 2ms/step - loss: 1.0440 - accuracy: 0.6920\n",
            "Epoch 29/100\n",
            "858/858 [==============================] - 2s 2ms/step - loss: 1.0091 - accuracy: 0.7035\n",
            "Epoch 30/100\n",
            "858/858 [==============================] - 2s 2ms/step - loss: 0.9762 - accuracy: 0.7130\n",
            "Epoch 31/100\n",
            "858/858 [==============================] - 2s 2ms/step - loss: 0.9443 - accuracy: 0.7254\n",
            "Epoch 32/100\n",
            "858/858 [==============================] - 2s 2ms/step - loss: 0.9151 - accuracy: 0.7352\n",
            "Epoch 33/100\n",
            "858/858 [==============================] - 2s 2ms/step - loss: 0.8866 - accuracy: 0.7442\n",
            "Epoch 34/100\n",
            "858/858 [==============================] - 2s 2ms/step - loss: 0.8597 - accuracy: 0.7545\n",
            "Epoch 35/100\n",
            "858/858 [==============================] - 2s 2ms/step - loss: 0.8331 - accuracy: 0.7635\n",
            "Epoch 36/100\n",
            "858/858 [==============================] - 2s 2ms/step - loss: 0.8080 - accuracy: 0.7738\n",
            "Epoch 37/100\n",
            "858/858 [==============================] - 2s 2ms/step - loss: 0.7842 - accuracy: 0.7803\n",
            "Epoch 38/100\n",
            "858/858 [==============================] - 2s 2ms/step - loss: 0.7603 - accuracy: 0.7886\n",
            "Epoch 39/100\n",
            "858/858 [==============================] - 2s 2ms/step - loss: 0.7395 - accuracy: 0.7933\n",
            "Epoch 40/100\n",
            "858/858 [==============================] - 2s 2ms/step - loss: 0.7179 - accuracy: 0.8012\n",
            "Epoch 41/100\n",
            "858/858 [==============================] - 2s 2ms/step - loss: 0.6959 - accuracy: 0.8086\n",
            "Epoch 42/100\n",
            "858/858 [==============================] - 2s 2ms/step - loss: 0.6760 - accuracy: 0.8138\n",
            "Epoch 43/100\n",
            "858/858 [==============================] - 2s 2ms/step - loss: 0.6574 - accuracy: 0.8203\n",
            "Epoch 44/100\n",
            "858/858 [==============================] - 2s 2ms/step - loss: 0.6378 - accuracy: 0.8245\n",
            "Epoch 45/100\n",
            "858/858 [==============================] - 2s 2ms/step - loss: 0.6203 - accuracy: 0.8309\n",
            "Epoch 46/100\n",
            "858/858 [==============================] - 2s 2ms/step - loss: 0.6018 - accuracy: 0.8372\n",
            "Epoch 47/100\n",
            "858/858 [==============================] - 2s 2ms/step - loss: 0.5843 - accuracy: 0.8414\n",
            "Epoch 48/100\n",
            "858/858 [==============================] - 2s 2ms/step - loss: 0.5672 - accuracy: 0.8479\n",
            "Epoch 49/100\n",
            "858/858 [==============================] - 2s 2ms/step - loss: 0.5502 - accuracy: 0.8521\n",
            "Epoch 50/100\n",
            "858/858 [==============================] - 2s 2ms/step - loss: 0.5335 - accuracy: 0.8591\n",
            "Epoch 51/100\n",
            "858/858 [==============================] - 2s 2ms/step - loss: 0.5167 - accuracy: 0.8643\n",
            "Epoch 52/100\n",
            "858/858 [==============================] - 2s 2ms/step - loss: 0.5022 - accuracy: 0.8677\n",
            "Epoch 53/100\n",
            "858/858 [==============================] - 2s 2ms/step - loss: 0.4881 - accuracy: 0.8727\n",
            "Epoch 54/100\n",
            "858/858 [==============================] - 2s 2ms/step - loss: 0.4720 - accuracy: 0.8774\n",
            "Epoch 55/100\n",
            "858/858 [==============================] - 2s 2ms/step - loss: 0.4595 - accuracy: 0.8823\n",
            "Epoch 56/100\n",
            "858/858 [==============================] - 2s 2ms/step - loss: 0.4444 - accuracy: 0.8865\n",
            "Epoch 57/100\n",
            "858/858 [==============================] - 2s 2ms/step - loss: 0.4307 - accuracy: 0.8920\n",
            "Epoch 58/100\n",
            "858/858 [==============================] - 2s 2ms/step - loss: 0.4180 - accuracy: 0.8958\n",
            "Epoch 59/100\n",
            "858/858 [==============================] - 2s 2ms/step - loss: 0.4058 - accuracy: 0.8978\n",
            "Epoch 60/100\n",
            "858/858 [==============================] - 2s 2ms/step - loss: 0.3921 - accuracy: 0.9023\n",
            "Epoch 61/100\n",
            "858/858 [==============================] - 2s 2ms/step - loss: 0.3800 - accuracy: 0.9074\n",
            "Epoch 62/100\n",
            "858/858 [==============================] - 2s 2ms/step - loss: 0.3671 - accuracy: 0.9109\n",
            "Epoch 63/100\n",
            "858/858 [==============================] - 2s 2ms/step - loss: 0.3558 - accuracy: 0.9128\n",
            "Epoch 64/100\n",
            "858/858 [==============================] - 2s 2ms/step - loss: 0.3448 - accuracy: 0.9180\n",
            "Epoch 65/100\n",
            "858/858 [==============================] - 2s 2ms/step - loss: 0.3336 - accuracy: 0.9212\n",
            "Epoch 66/100\n",
            "858/858 [==============================] - 2s 2ms/step - loss: 0.3239 - accuracy: 0.9251\n",
            "Epoch 67/100\n",
            "858/858 [==============================] - 2s 2ms/step - loss: 0.3131 - accuracy: 0.9279\n",
            "Epoch 68/100\n",
            "858/858 [==============================] - 2s 2ms/step - loss: 0.3023 - accuracy: 0.9326\n",
            "Epoch 69/100\n",
            "858/858 [==============================] - 2s 2ms/step - loss: 0.2931 - accuracy: 0.9341\n",
            "Epoch 70/100\n",
            "858/858 [==============================] - 2s 2ms/step - loss: 0.2841 - accuracy: 0.9380\n",
            "Epoch 71/100\n",
            "858/858 [==============================] - 2s 2ms/step - loss: 0.2741 - accuracy: 0.9404\n",
            "Epoch 72/100\n",
            "858/858 [==============================] - 2s 2ms/step - loss: 0.2648 - accuracy: 0.9442\n",
            "Epoch 73/100\n",
            "858/858 [==============================] - 2s 2ms/step - loss: 0.2563 - accuracy: 0.9471\n",
            "Epoch 74/100\n",
            "858/858 [==============================] - 2s 2ms/step - loss: 0.2487 - accuracy: 0.9482\n",
            "Epoch 75/100\n",
            "858/858 [==============================] - 2s 2ms/step - loss: 0.2404 - accuracy: 0.9525\n",
            "Epoch 76/100\n",
            "858/858 [==============================] - 2s 2ms/step - loss: 0.2331 - accuracy: 0.9544\n",
            "Epoch 77/100\n",
            "858/858 [==============================] - 2s 2ms/step - loss: 0.2246 - accuracy: 0.9556\n",
            "Epoch 78/100\n",
            "858/858 [==============================] - 2s 2ms/step - loss: 0.2180 - accuracy: 0.9591\n",
            "Epoch 79/100\n",
            "858/858 [==============================] - 2s 2ms/step - loss: 0.2114 - accuracy: 0.9597\n",
            "Epoch 80/100\n",
            "858/858 [==============================] - 2s 2ms/step - loss: 0.2043 - accuracy: 0.9633\n",
            "Epoch 81/100\n",
            "858/858 [==============================] - 2s 2ms/step - loss: 0.1973 - accuracy: 0.9665\n",
            "Epoch 82/100\n",
            "858/858 [==============================] - 2s 2ms/step - loss: 0.1903 - accuracy: 0.9674\n",
            "Epoch 83/100\n",
            "858/858 [==============================] - 2s 2ms/step - loss: 0.1850 - accuracy: 0.9689\n",
            "Epoch 84/100\n",
            "858/858 [==============================] - 2s 2ms/step - loss: 0.1788 - accuracy: 0.9704\n",
            "Epoch 85/100\n",
            "858/858 [==============================] - 2s 2ms/step - loss: 0.1722 - accuracy: 0.9735\n",
            "Epoch 86/100\n",
            "858/858 [==============================] - 2s 2ms/step - loss: 0.1670 - accuracy: 0.9742\n",
            "Epoch 87/100\n",
            "858/858 [==============================] - 2s 2ms/step - loss: 0.1610 - accuracy: 0.9768\n",
            "Epoch 88/100\n",
            "858/858 [==============================] - 2s 2ms/step - loss: 0.1568 - accuracy: 0.9781\n",
            "Epoch 89/100\n",
            "858/858 [==============================] - 2s 2ms/step - loss: 0.1519 - accuracy: 0.9784\n",
            "Epoch 90/100\n",
            "858/858 [==============================] - 2s 2ms/step - loss: 0.1465 - accuracy: 0.9811\n",
            "Epoch 91/100\n",
            "858/858 [==============================] - 2s 2ms/step - loss: 0.1417 - accuracy: 0.9816\n",
            "Epoch 92/100\n",
            "858/858 [==============================] - 2s 2ms/step - loss: 0.1374 - accuracy: 0.9834\n",
            "Epoch 93/100\n",
            "858/858 [==============================] - 2s 2ms/step - loss: 0.1327 - accuracy: 0.9846\n",
            "Epoch 94/100\n",
            "858/858 [==============================] - 2s 2ms/step - loss: 0.1287 - accuracy: 0.9858\n",
            "Epoch 95/100\n",
            "858/858 [==============================] - 2s 2ms/step - loss: 0.1246 - accuracy: 0.9858\n",
            "Epoch 96/100\n",
            "858/858 [==============================] - 2s 2ms/step - loss: 0.1213 - accuracy: 0.9873\n",
            "Epoch 97/100\n",
            "858/858 [==============================] - 2s 2ms/step - loss: 0.1168 - accuracy: 0.9887\n",
            "Epoch 98/100\n",
            "858/858 [==============================] - 2s 2ms/step - loss: 0.1137 - accuracy: 0.9890\n",
            "Epoch 99/100\n",
            "858/858 [==============================] - 2s 2ms/step - loss: 0.1102 - accuracy: 0.9895\n",
            "Epoch 100/100\n",
            "858/858 [==============================] - 2s 2ms/step - loss: 0.1067 - accuracy: 0.9905\n"
          ],
          "name": "stdout"
        },
        {
          "output_type": "execute_result",
          "data": {
            "text/plain": [
              "<tensorflow.python.keras.callbacks.History at 0x7f9bd08b1ac8>"
            ]
          },
          "metadata": {
            "tags": []
          },
          "execution_count": 38
        }
      ]
    },
    {
      "cell_type": "code",
      "metadata": {
        "id": "npd_sYSYGVpz",
        "outputId": "9ef704eb-97ca-4d63-dbc3-7f5c3e122446",
        "colab": {
          "base_uri": "https://localhost:8080/",
          "height": 52
        }
      },
      "source": [
        "accuracy = model.evaluate(x=test_X,y=test_Y,batch_size=32)\n",
        "print(\"Accuracy: \",accuracy[1])"
      ],
      "execution_count": 39,
      "outputs": [
        {
          "output_type": "stream",
          "text": [
            "225/225 [==============================] - 0s 1ms/step - loss: 1.2238 - accuracy: 0.7122\n",
            "Accuracy:  0.7122141718864441\n"
          ],
          "name": "stdout"
        }
      ]
    },
    {
      "cell_type": "code",
      "metadata": {
        "id": "NxsDHR0GGaq7",
        "outputId": "addef549-3f43-4ce9-a014-913edf262ca0",
        "colab": {
          "base_uri": "https://localhost:8080/",
          "height": 35
        }
      },
      "source": [
        "img = test_X[1]\n",
        "test_img = img.reshape((1,784))\n",
        "img_class = model.predict_classes(test_img)\n",
        "prediction = img_class[0]\n",
        "classname = img_class[0]\n",
        "print(\"Class: \",classname)"
      ],
      "execution_count": 40,
      "outputs": [
        {
          "output_type": "stream",
          "text": [
            "Class:  5\n"
          ],
          "name": "stdout"
        }
      ]
    },
    {
      "cell_type": "code",
      "metadata": {
        "id": "XOCzyQvyGhGt",
        "outputId": "95212c34-cb76-4573-a923-a9bae27fb174",
        "colab": {
          "base_uri": "https://localhost:8080/",
          "height": 281
        }
      },
      "source": [
        "img = img.reshape((28,28))\n",
        "plt.imshow(img)\n",
        "plt.title(classname)\n",
        "plt.show()"
      ],
      "execution_count": 41,
      "outputs": [
        {
          "output_type": "display_data",
          "data": {
            "image/png": "[encoded data removed]",
            "text/plain": [
              "<Figure size 432x288 with 1 Axes>"
            ]
          },
          "metadata": {
            "tags": [],
            "needs_background": "light"
          }
        }
      ]
    },
    {
      "cell_type": "code",
      "metadata": {
        "id": "O4jJrrcGHbHi"
      },
      "source": [
        "model = Sequential()\n",
        "model.add(Dense(units=128,activation=\"relu\",input_shape=(784,)))\n",
        "model.add(Dense(units=128,activation=\"relu\"))\n",
        "model.add(Dense(units=128,activation=\"relu\"))\n",
        "model.add(Dense(units=128,activation=\"relu\"))\n",
        "model.add(Dense(units=128,activation=\"relu\"))\n",
        "model.add(Dense(units=26,activation=\"softmax\"))"
      ],
      "execution_count": 43,
      "outputs": []
    },
    {
      "cell_type": "code",
      "metadata": {
        "id": "Kb3UXw3YJUdm",
        "outputId": "036fc96d-6c95-48fe-d143-e97165213bf0",
        "colab": {
          "base_uri": "https://localhost:8080/",
          "height": 1000
        }
      },
      "source": [
        "model.compile(optimizer=SGD(0.001),loss=\"categorical_crossentropy\",metrics=[\"accuracy\"])\n",
        "model.fit(train_X,train_Y,batch_size=32,epochs=100,verbose=1)\n"
      ],
      "execution_count": 44,
      "outputs": [
        {
          "output_type": "stream",
          "text": [
            "Epoch 1/100\n",
            "858/858 [==============================] - 2s 3ms/step - loss: 3.2078 - accuracy: 0.0423\n",
            "Epoch 2/100\n",
            "858/858 [==============================] - 2s 3ms/step - loss: 3.1544 - accuracy: 0.0742\n",
            "Epoch 3/100\n",
            "858/858 [==============================] - 2s 2ms/step - loss: 3.0946 - accuracy: 0.1327\n",
            "Epoch 4/100\n",
            "858/858 [==============================] - 2s 2ms/step - loss: 3.0044 - accuracy: 0.2012\n",
            "Epoch 5/100\n",
            "858/858 [==============================] - 2s 2ms/step - loss: 2.8575 - accuracy: 0.2255\n",
            "Epoch 6/100\n",
            "858/858 [==============================] - 2s 2ms/step - loss: 2.6492 - accuracy: 0.2473\n",
            "Epoch 7/100\n",
            "858/858 [==============================] - 2s 2ms/step - loss: 2.4304 - accuracy: 0.2854\n",
            "Epoch 8/100\n",
            "858/858 [==============================] - 2s 2ms/step - loss: 2.2444 - accuracy: 0.3216\n",
            "Epoch 9/100\n",
            "858/858 [==============================] - 2s 2ms/step - loss: 2.0934 - accuracy: 0.3515\n",
            "Epoch 10/100\n",
            "858/858 [==============================] - 2s 2ms/step - loss: 1.9615 - accuracy: 0.3832\n",
            "Epoch 11/100\n",
            "858/858 [==============================] - 2s 2ms/step - loss: 1.8464 - accuracy: 0.4089\n",
            "Epoch 12/100\n",
            "858/858 [==============================] - 2s 2ms/step - loss: 1.7484 - accuracy: 0.4409\n",
            "Epoch 13/100\n",
            "858/858 [==============================] - 2s 2ms/step - loss: 1.6643 - accuracy: 0.4651\n",
            "Epoch 14/100\n",
            "858/858 [==============================] - 2s 2ms/step - loss: 1.5883 - accuracy: 0.4873\n",
            "Epoch 15/100\n",
            "858/858 [==============================] - 2s 2ms/step - loss: 1.5186 - accuracy: 0.5067\n",
            "Epoch 16/100\n",
            "858/858 [==============================] - 2s 2ms/step - loss: 1.4533 - accuracy: 0.5261\n",
            "Epoch 17/100\n",
            "858/858 [==============================] - 2s 2ms/step - loss: 1.3926 - accuracy: 0.5411\n",
            "Epoch 18/100\n",
            "858/858 [==============================] - 2s 2ms/step - loss: 1.3363 - accuracy: 0.5581\n",
            "Epoch 19/100\n",
            "858/858 [==============================] - 2s 2ms/step - loss: 1.2791 - accuracy: 0.5745\n",
            "Epoch 20/100\n",
            "858/858 [==============================] - 2s 2ms/step - loss: 1.2308 - accuracy: 0.5875\n",
            "Epoch 21/100\n",
            "858/858 [==============================] - 2s 2ms/step - loss: 1.1813 - accuracy: 0.6050\n",
            "Epoch 22/100\n",
            "858/858 [==============================] - 2s 2ms/step - loss: 1.1376 - accuracy: 0.6197\n",
            "Epoch 23/100\n",
            "858/858 [==============================] - 2s 2ms/step - loss: 1.0935 - accuracy: 0.6318\n",
            "Epoch 24/100\n",
            "858/858 [==============================] - 2s 2ms/step - loss: 1.0513 - accuracy: 0.6489\n",
            "Epoch 25/100\n",
            "858/858 [==============================] - 2s 2ms/step - loss: 1.0101 - accuracy: 0.6606\n",
            "Epoch 26/100\n",
            "858/858 [==============================] - 2s 2ms/step - loss: 0.9719 - accuracy: 0.6724\n",
            "Epoch 27/100\n",
            "858/858 [==============================] - 2s 2ms/step - loss: 0.9315 - accuracy: 0.6875\n",
            "Epoch 28/100\n",
            "858/858 [==============================] - 2s 2ms/step - loss: 0.8989 - accuracy: 0.6973\n",
            "Epoch 29/100\n",
            "858/858 [==============================] - 2s 2ms/step - loss: 0.8624 - accuracy: 0.7104\n",
            "Epoch 30/100\n",
            "858/858 [==============================] - 2s 2ms/step - loss: 0.8247 - accuracy: 0.7270\n",
            "Epoch 31/100\n",
            "858/858 [==============================] - 2s 2ms/step - loss: 0.7897 - accuracy: 0.7397\n",
            "Epoch 32/100\n",
            "858/858 [==============================] - 2s 2ms/step - loss: 0.7575 - accuracy: 0.7509\n",
            "Epoch 33/100\n",
            "858/858 [==============================] - 2s 2ms/step - loss: 0.7203 - accuracy: 0.7634\n",
            "Epoch 34/100\n",
            "858/858 [==============================] - 2s 2ms/step - loss: 0.6920 - accuracy: 0.7718\n",
            "Epoch 35/100\n",
            "858/858 [==============================] - 2s 2ms/step - loss: 0.6634 - accuracy: 0.7848\n",
            "Epoch 36/100\n",
            "858/858 [==============================] - 2s 2ms/step - loss: 0.6252 - accuracy: 0.7996\n",
            "Epoch 37/100\n",
            "858/858 [==============================] - 2s 2ms/step - loss: 0.6051 - accuracy: 0.8060\n",
            "Epoch 38/100\n",
            "858/858 [==============================] - 2s 2ms/step - loss: 0.5680 - accuracy: 0.8188\n",
            "Epoch 39/100\n",
            "858/858 [==============================] - 2s 2ms/step - loss: 0.5430 - accuracy: 0.8294\n",
            "Epoch 40/100\n",
            "858/858 [==============================] - 2s 2ms/step - loss: 0.5224 - accuracy: 0.8357\n",
            "Epoch 41/100\n",
            "858/858 [==============================] - 2s 2ms/step - loss: 0.4901 - accuracy: 0.8481\n",
            "Epoch 42/100\n",
            "858/858 [==============================] - 2s 2ms/step - loss: 0.4757 - accuracy: 0.8516\n",
            "Epoch 43/100\n",
            "858/858 [==============================] - 2s 2ms/step - loss: 0.4471 - accuracy: 0.8635\n",
            "Epoch 44/100\n",
            "858/858 [==============================] - 2s 2ms/step - loss: 0.4171 - accuracy: 0.8735\n",
            "Epoch 45/100\n",
            "858/858 [==============================] - 2s 2ms/step - loss: 0.4025 - accuracy: 0.8798\n",
            "Epoch 46/100\n",
            "858/858 [==============================] - 2s 2ms/step - loss: 0.3785 - accuracy: 0.8863\n",
            "Epoch 47/100\n",
            "858/858 [==============================] - 2s 2ms/step - loss: 0.3602 - accuracy: 0.8930\n",
            "Epoch 48/100\n",
            "858/858 [==============================] - 2s 2ms/step - loss: 0.3402 - accuracy: 0.9010\n",
            "Epoch 49/100\n",
            "858/858 [==============================] - 2s 2ms/step - loss: 0.3407 - accuracy: 0.9004\n",
            "Epoch 50/100\n",
            "858/858 [==============================] - 2s 2ms/step - loss: 0.3090 - accuracy: 0.9118\n",
            "Epoch 51/100\n",
            "858/858 [==============================] - 2s 2ms/step - loss: 0.2911 - accuracy: 0.9177\n",
            "Epoch 52/100\n",
            "858/858 [==============================] - 2s 2ms/step - loss: 0.2976 - accuracy: 0.9218\n",
            "Epoch 53/100\n",
            "858/858 [==============================] - 2s 2ms/step - loss: 0.2582 - accuracy: 0.9292\n",
            "Epoch 54/100\n",
            "858/858 [==============================] - 2s 2ms/step - loss: 0.2439 - accuracy: 0.9346\n",
            "Epoch 55/100\n",
            "858/858 [==============================] - 2s 2ms/step - loss: 0.2566 - accuracy: 0.9353\n",
            "Epoch 56/100\n",
            "858/858 [==============================] - 2s 2ms/step - loss: 0.2119 - accuracy: 0.9464\n",
            "Epoch 57/100\n",
            "858/858 [==============================] - 2s 2ms/step - loss: 0.2355 - accuracy: 0.9426\n",
            "Epoch 58/100\n",
            "858/858 [==============================] - 2s 2ms/step - loss: 0.1931 - accuracy: 0.9502\n",
            "Epoch 59/100\n",
            "858/858 [==============================] - 2s 2ms/step - loss: 0.1782 - accuracy: 0.9560\n",
            "Epoch 60/100\n",
            "858/858 [==============================] - 2s 2ms/step - loss: 0.1701 - accuracy: 0.9594\n",
            "Epoch 61/100\n",
            "858/858 [==============================] - 2s 2ms/step - loss: 0.1577 - accuracy: 0.9639\n",
            "Epoch 62/100\n",
            "858/858 [==============================] - 2s 2ms/step - loss: 0.1510 - accuracy: 0.9656\n",
            "Epoch 63/100\n",
            "858/858 [==============================] - 2s 2ms/step - loss: 0.1517 - accuracy: 0.9659\n",
            "Epoch 64/100\n",
            "858/858 [==============================] - 2s 2ms/step - loss: 0.1608 - accuracy: 0.9665\n",
            "Epoch 65/100\n",
            "858/858 [==============================] - 2s 2ms/step - loss: 0.1268 - accuracy: 0.9730\n",
            "Epoch 66/100\n",
            "858/858 [==============================] - 2s 2ms/step - loss: 0.1692 - accuracy: 0.9686\n",
            "Epoch 67/100\n",
            "858/858 [==============================] - 2s 2ms/step - loss: 0.1103 - accuracy: 0.9793\n",
            "Epoch 68/100\n",
            "858/858 [==============================] - 2s 2ms/step - loss: 0.1051 - accuracy: 0.9800\n",
            "Epoch 69/100\n",
            "858/858 [==============================] - 2s 2ms/step - loss: 0.1132 - accuracy: 0.9792\n",
            "Epoch 70/100\n",
            "858/858 [==============================] - 2s 2ms/step - loss: 0.1093 - accuracy: 0.9796\n",
            "Epoch 71/100\n",
            "858/858 [==============================] - 2s 2ms/step - loss: 0.1551 - accuracy: 0.9752\n",
            "Epoch 72/100\n",
            "858/858 [==============================] - 2s 2ms/step - loss: 0.0818 - accuracy: 0.9872\n",
            "Epoch 73/100\n",
            "858/858 [==============================] - 2s 3ms/step - loss: 0.0795 - accuracy: 0.9870\n",
            "Epoch 74/100\n",
            "858/858 [==============================] - 2s 3ms/step - loss: 0.0733 - accuracy: 0.9886\n",
            "Epoch 75/100\n",
            "858/858 [==============================] - 2s 3ms/step - loss: 0.0670 - accuracy: 0.9904\n",
            "Epoch 76/100\n",
            "858/858 [==============================] - 2s 2ms/step - loss: 0.1421 - accuracy: 0.9811\n",
            "Epoch 77/100\n",
            "858/858 [==============================] - 2s 2ms/step - loss: 0.0601 - accuracy: 0.9933\n",
            "Epoch 78/100\n",
            "858/858 [==============================] - 2s 2ms/step - loss: 0.0569 - accuracy: 0.9929\n",
            "Epoch 79/100\n",
            "858/858 [==============================] - 2s 2ms/step - loss: 0.0538 - accuracy: 0.9941\n",
            "Epoch 80/100\n",
            "858/858 [==============================] - 2s 2ms/step - loss: 0.0494 - accuracy: 0.9949\n",
            "Epoch 81/100\n",
            "858/858 [==============================] - 2s 2ms/step - loss: 0.0466 - accuracy: 0.9958\n",
            "Epoch 82/100\n",
            "858/858 [==============================] - 2s 2ms/step - loss: 0.0444 - accuracy: 0.9965\n",
            "Epoch 83/100\n",
            "858/858 [==============================] - 2s 2ms/step - loss: 0.0440 - accuracy: 0.9962\n",
            "Epoch 84/100\n",
            "858/858 [==============================] - 2s 2ms/step - loss: 0.0401 - accuracy: 0.9973\n",
            "Epoch 85/100\n",
            "858/858 [==============================] - 2s 2ms/step - loss: 0.0456 - accuracy: 0.9948\n",
            "Epoch 86/100\n",
            "858/858 [==============================] - 2s 2ms/step - loss: 0.0360 - accuracy: 0.9970\n",
            "Epoch 87/100\n",
            "858/858 [==============================] - 2s 2ms/step - loss: 0.0344 - accuracy: 0.9978\n",
            "Epoch 88/100\n",
            "858/858 [==============================] - 2s 2ms/step - loss: 0.0339 - accuracy: 0.9976\n",
            "Epoch 89/100\n",
            "858/858 [==============================] - 2s 2ms/step - loss: 0.0304 - accuracy: 0.9983\n",
            "Epoch 90/100\n",
            "858/858 [==============================] - 2s 2ms/step - loss: 0.0295 - accuracy: 0.9985\n",
            "Epoch 91/100\n",
            "858/858 [==============================] - 2s 2ms/step - loss: 0.0297 - accuracy: 0.9977\n",
            "Epoch 92/100\n",
            "858/858 [==============================] - 2s 2ms/step - loss: 0.0264 - accuracy: 0.9986\n",
            "Epoch 93/100\n",
            "858/858 [==============================] - 2s 2ms/step - loss: 0.0256 - accuracy: 0.9986\n",
            "Epoch 94/100\n",
            "858/858 [==============================] - 2s 2ms/step - loss: 0.0240 - accuracy: 0.9991\n",
            "Epoch 95/100\n",
            "858/858 [==============================] - 2s 2ms/step - loss: 0.0234 - accuracy: 0.9989\n",
            "Epoch 96/100\n",
            "858/858 [==============================] - 2s 2ms/step - loss: 0.0223 - accuracy: 0.9990\n",
            "Epoch 97/100\n",
            "858/858 [==============================] - 2s 2ms/step - loss: 0.0217 - accuracy: 0.9991\n",
            "Epoch 98/100\n",
            "858/858 [==============================] - 2s 2ms/step - loss: 0.0208 - accuracy: 0.9992\n",
            "Epoch 99/100\n",
            "858/858 [==============================] - 2s 2ms/step - loss: 0.0199 - accuracy: 0.9991\n",
            "Epoch 100/100\n",
            "858/858 [==============================] - 2s 2ms/step - loss: 0.0189 - accuracy: 0.9995\n"
          ],
          "name": "stdout"
        },
        {
          "output_type": "execute_result",
          "data": {
            "text/plain": [
              "<tensorflow.python.keras.callbacks.History at 0x7f9bcee56d30>"
            ]
          },
          "metadata": {
            "tags": []
          },
          "execution_count": 44
        }
      ]
    },
    {
      "cell_type": "code",
      "metadata": {
        "id": "TBhnpX5QKoqd",
        "outputId": "3936088d-b748-4ad3-c486-9156c5991f9f",
        "colab": {
          "base_uri": "https://localhost:8080/",
          "height": 52
        }
      },
      "source": [
        "accuracy = model.evaluate(x=test_X,y=test_Y,batch_size=32)\n",
        "print(\"Accuracy: \",accuracy[1])"
      ],
      "execution_count": 45,
      "outputs": [
        {
          "output_type": "stream",
          "text": [
            "225/225 [==============================] - 0s 1ms/step - loss: 1.9209 - accuracy: 0.6888\n",
            "Accuracy:  0.6887897253036499\n"
          ],
          "name": "stdout"
        }
      ]
    },
    {
      "cell_type": "code",
      "metadata": {
        "id": "8_eI5siHKvCc",
        "outputId": "04a5d882-a806-477f-edec-53ad705c0274",
        "colab": {
          "base_uri": "https://localhost:8080/",
          "height": 35
        }
      },
      "source": [
        "img = test_X[1]\n",
        "test_img = img.reshape((1,784))\n",
        "img_class = model.predict_classes(test_img)\n",
        "prediction = img_class[0]\n",
        "classname = img_class[0]\n",
        "print(\"Class: \",classname)"
      ],
      "execution_count": 46,
      "outputs": [
        {
          "output_type": "stream",
          "text": [
            "Class:  5\n"
          ],
          "name": "stdout"
        }
      ]
    },
    {
      "cell_type": "code",
      "metadata": {
        "id": "8UGit94tK0up",
        "outputId": "db1e7c4d-8edb-4de2-8276-74dee9898af1",
        "colab": {
          "base_uri": "https://localhost:8080/",
          "height": 281
        }
      },
      "source": [
        "img = img.reshape((28,28))\n",
        "plt.imshow(img)\n",
        "plt.title(classname)\n",
        "plt.show()"
      ],
      "execution_count": 47,
      "outputs": [
        {
          "output_type": "display_data",
          "data": {
            "image/png": "[encoded data removed]",
            "text/plain": [
              "<Figure size 432x288 with 1 Axes>"
            ]
          },
          "metadata": {
            "tags": [],
            "needs_background": "light"
          }
        }
      ]
    },
    {
      "cell_type": "code",
      "metadata": {
        "id": "LSzFquSSK2pG",
        "outputId": "6cd7e6d8-7fa8-40aa-a09b-ba79ecff0b75",
        "colab": {
          "base_uri": "https://localhost:8080/",
          "height": 35
        }
      },
      "source": [
        "model.save_weights('model_weights.h5')\n",
        "weights_file = drive.CreateFile({'title' : 'model_weights.h5'})\n",
        "weights_file.SetContentFile('model_weights.h5')\n",
        "weights_file.Upload()\n",
        "drive.CreateFile({'id': weights_file.get('id')})"
      ],
      "execution_count": 48,
      "outputs": [
        {
          "output_type": "execute_result",
          "data": {
            "text/plain": [
              "GoogleDriveFile({'id': '10uMiTLKI91-5Gk8J7y7Ziqb_-dLIv1e8'})"
            ]
          },
          "metadata": {
            "tags": []
          },
          "execution_count": 48
        }
      ]
    },
    {
      "cell_type": "code",
      "metadata": {
        "id": "DWwIRNnLLTlh",
        "outputId": "42b0217a-c576-4207-9e1f-215967ded308",
        "colab": {
          "base_uri": "https://localhost:8080/",
          "height": 35
        }
      },
      "source": [
        "model.save('model.h5')\n",
        "weights_file = drive.CreateFile({'title' : 'model.h5'})\n",
        "weights_file.SetContentFile('model.h5')\n",
        "weights_file.Upload()\n",
        "drive.CreateFile({'id': weights_file.get('id')})"
      ],
      "execution_count": 49,
      "outputs": [
        {
          "output_type": "execute_result",
          "data": {
            "text/plain": [
              "GoogleDriveFile({'id': '1UlfLpIWfu8kzPS4VHXQOlrRf6tnfhHiC'})"
            ]
          },
          "metadata": {
            "tags": []
          },
          "execution_count": 49
        }
      ]
    },
    {
      "cell_type": "code",
      "metadata": {
        "id": "ddc69tCvLavi",
        "outputId": "c50cbf6a-2c16-4414-96d3-eabbe44a00d3",
        "colab": {
          "base_uri": "https://localhost:8080/",
          "height": 87
        }
      },
      "source": [
        "!pip install h5py pyyaml"
      ],
      "execution_count": 50,
      "outputs": [
        {
          "output_type": "stream",
          "text": [
            "Requirement already satisfied: h5py in /usr/local/lib/python3.6/dist-packages (2.10.0)\n",
            "Requirement already satisfied: pyyaml in /usr/local/lib/python3.6/dist-packages (3.13)\n",
            "Requirement already satisfied: six in /usr/local/lib/python3.6/dist-packages (from h5py) (1.15.0)\n",
            "Requirement already satisfied: numpy>=1.7 in /usr/local/lib/python3.6/dist-packages (from h5py) (1.18.5)\n"
          ],
          "name": "stdout"
        }
      ]
    },
    {
      "cell_type": "markdown",
      "metadata": {
        "id": "MM4_Sp5rLqGM"
      },
      "source": [
        "**CNN**"
      ]
    },
    {
      "cell_type": "code",
      "metadata": {
        "id": "wH086xCbLmwB"
      },
      "source": [
        "y_train = train['label'].values\n",
        "y_test = test['label'].values\n",
        "\n",
        "X_train = train.drop(['label'],axis=1)\n",
        "X_test = test.drop(['label'], axis=1)\n",
        "\n",
        "X_train = np.array(X_train.iloc[:,:])\n",
        "X_train = np.array([np.reshape(i, (28,28)) for i in X_train])\n",
        "\n",
        "X_test = np.array(X_test.iloc[:,:])\n",
        "X_test = np.array([np.reshape(i, (28,28)) for i in X_test])\n",
        "\n",
        "num_classes = 26\n",
        "y_train = np.array(y_train).reshape(-1)\n",
        "y_test = np.array(y_test).reshape(-1)\n",
        "\n",
        "y_train = np.eye(num_classes)[y_train]\n",
        "y_test = np.eye(num_classes)[y_test]"
      ],
      "execution_count": 51,
      "outputs": []
    },
    {
      "cell_type": "code",
      "metadata": {
        "id": "Y5cXCUbQLu7s"
      },
      "source": [
        "X_train = X_train.reshape((27455, 28, 28, 1))\n",
        "X_test = X_test.reshape((7172, 28, 28, 1))"
      ],
      "execution_count": 52,
      "outputs": []
    },
    {
      "cell_type": "code",
      "metadata": {
        "id": "j2xHvwfxLoou"
      },
      "source": [
        "classifier = Sequential()\n",
        "classifier.add(Conv2D(filters=8, kernel_size=(3,3),strides=(1,1),padding='same',input_shape=(28,28,1),activation='relu', data_format='channels_last'))\n",
        "classifier.add(MaxPooling2D(pool_size=(2,2)))\n",
        "classifier.add(Conv2D(filters=16, kernel_size=(3,3),strides=(1,1),padding='same',activation='relu'))\n",
        "classifier.add(MaxPooling2D(pool_size=(4,4)))\n",
        "classifier.add(Dense(128, activation='relu'))\n",
        "classifier.add(Flatten())\n",
        "classifier.add(Dense(26, activation='softmax'))\n",
        "classifier.compile(optimizer='SGD', loss='categorical_crossentropy', metrics=['accuracy'])"
      ],
      "execution_count": 56,
      "outputs": []
    },
    {
      "cell_type": "code",
      "metadata": {
        "id": "mgLhBWmkM1fY",
        "outputId": "74681743-8afc-4698-f25b-c5ea8df0624a",
        "colab": {
          "base_uri": "https://localhost:8080/",
          "height": 1000
        }
      },
      "source": [
        "classifier.compile(loss='categorical_crossentropy', optimizer='adam', metrics=['accuracy'])\n",
        "classifier.fit(X_train, y_train, epochs=50, batch_size=100)"
      ],
      "execution_count": 57,
      "outputs": [
        {
          "output_type": "stream",
          "text": [
            "Epoch 1/50\n",
            "275/275 [==============================] - 10s 38ms/step - loss: 1.6777 - accuracy: 0.6137\n",
            "Epoch 2/50\n",
            "275/275 [==============================] - 10s 38ms/step - loss: 0.1580 - accuracy: 0.9591\n",
            "Epoch 3/50\n",
            "275/275 [==============================] - 10s 38ms/step - loss: 0.0449 - accuracy: 0.9932\n",
            "Epoch 4/50\n",
            "275/275 [==============================] - 11s 38ms/step - loss: 0.0236 - accuracy: 0.9967\n",
            "Epoch 5/50\n",
            "275/275 [==============================] - 10s 38ms/step - loss: 0.0206 - accuracy: 0.9964\n",
            "Epoch 6/50\n",
            "275/275 [==============================] - 11s 38ms/step - loss: 0.0084 - accuracy: 0.9991\n",
            "Epoch 7/50\n",
            "275/275 [==============================] - 10s 38ms/step - loss: 0.0096 - accuracy: 0.9980\n",
            "Epoch 8/50\n",
            "275/275 [==============================] - 10s 38ms/step - loss: 0.0055 - accuracy: 0.9992\n",
            "Epoch 9/50\n",
            "275/275 [==============================] - 10s 38ms/step - loss: 0.0538 - accuracy: 0.9834\n",
            "Epoch 10/50\n",
            "275/275 [==============================] - 10s 37ms/step - loss: 0.0033 - accuracy: 0.9995\n",
            "Epoch 11/50\n",
            "275/275 [==============================] - 11s 38ms/step - loss: 0.0020 - accuracy: 0.9998\n",
            "Epoch 12/50\n",
            "275/275 [==============================] - 10s 38ms/step - loss: 7.1527e-04 - accuracy: 1.0000\n",
            "Epoch 13/50\n",
            "275/275 [==============================] - 10s 38ms/step - loss: 5.0849e-04 - accuracy: 1.0000\n",
            "Epoch 14/50\n",
            "275/275 [==============================] - 11s 39ms/step - loss: 4.5423e-04 - accuracy: 1.0000\n",
            "Epoch 15/50\n",
            "275/275 [==============================] - 11s 38ms/step - loss: 3.9641e-04 - accuracy: 1.0000\n",
            "Epoch 16/50\n",
            "275/275 [==============================] - 10s 38ms/step - loss: 3.2738e-04 - accuracy: 1.0000\n",
            "Epoch 17/50\n",
            "275/275 [==============================] - 11s 38ms/step - loss: 0.0505 - accuracy: 0.9847\n",
            "Epoch 18/50\n",
            "275/275 [==============================] - 10s 38ms/step - loss: 0.0190 - accuracy: 0.9939\n",
            "Epoch 19/50\n",
            "275/275 [==============================] - 10s 38ms/step - loss: 8.8595e-04 - accuracy: 0.9999\n",
            "Epoch 20/50\n",
            "275/275 [==============================] - 11s 38ms/step - loss: 7.4341e-04 - accuracy: 1.0000\n",
            "Epoch 21/50\n",
            "275/275 [==============================] - 10s 38ms/step - loss: 3.3390e-04 - accuracy: 1.0000\n",
            "Epoch 22/50\n",
            "275/275 [==============================] - 10s 38ms/step - loss: 2.5633e-04 - accuracy: 1.0000\n",
            "Epoch 23/50\n",
            "275/275 [==============================] - 11s 41ms/step - loss: 2.0800e-04 - accuracy: 1.0000\n",
            "Epoch 24/50\n",
            "275/275 [==============================] - 11s 38ms/step - loss: 1.6594e-04 - accuracy: 1.0000\n",
            "Epoch 25/50\n",
            "275/275 [==============================] - 10s 38ms/step - loss: 1.4555e-04 - accuracy: 1.0000\n",
            "Epoch 26/50\n",
            "275/275 [==============================] - 10s 38ms/step - loss: 1.2031e-04 - accuracy: 1.0000\n",
            "Epoch 27/50\n",
            "275/275 [==============================] - 10s 38ms/step - loss: 1.0669e-04 - accuracy: 1.0000\n",
            "Epoch 28/50\n",
            "275/275 [==============================] - 11s 38ms/step - loss: 8.9309e-05 - accuracy: 1.0000\n",
            "Epoch 29/50\n",
            "275/275 [==============================] - 11s 38ms/step - loss: 7.7531e-05 - accuracy: 1.0000\n",
            "Epoch 30/50\n",
            "275/275 [==============================] - 10s 38ms/step - loss: 7.0565e-05 - accuracy: 1.0000\n",
            "Epoch 31/50\n",
            "275/275 [==============================] - 10s 38ms/step - loss: 5.9818e-05 - accuracy: 1.0000\n",
            "Epoch 32/50\n",
            "275/275 [==============================] - 10s 38ms/step - loss: 5.5909e-05 - accuracy: 1.0000\n",
            "Epoch 33/50\n",
            "275/275 [==============================] - 10s 38ms/step - loss: 4.5145e-05 - accuracy: 1.0000\n",
            "Epoch 34/50\n",
            "275/275 [==============================] - 10s 38ms/step - loss: 4.6617e-05 - accuracy: 1.0000\n",
            "Epoch 35/50\n",
            "275/275 [==============================] - 11s 38ms/step - loss: 3.6629e-05 - accuracy: 1.0000\n",
            "Epoch 36/50\n",
            "275/275 [==============================] - 11s 38ms/step - loss: 3.2280e-05 - accuracy: 1.0000\n",
            "Epoch 37/50\n",
            "275/275 [==============================] - 11s 38ms/step - loss: 0.0675 - accuracy: 0.9832\n",
            "Epoch 38/50\n",
            "275/275 [==============================] - 10s 37ms/step - loss: 0.0044 - accuracy: 0.9990\n",
            "Epoch 39/50\n",
            "275/275 [==============================] - 10s 38ms/step - loss: 5.0897e-04 - accuracy: 1.0000\n",
            "Epoch 40/50\n",
            "275/275 [==============================] - 10s 38ms/step - loss: 2.6181e-04 - accuracy: 1.0000\n",
            "Epoch 41/50\n",
            "275/275 [==============================] - 10s 37ms/step - loss: 2.0139e-04 - accuracy: 1.0000\n",
            "Epoch 42/50\n",
            "275/275 [==============================] - 10s 38ms/step - loss: 1.5921e-04 - accuracy: 1.0000\n",
            "Epoch 43/50\n",
            "275/275 [==============================] - 10s 38ms/step - loss: 1.3193e-04 - accuracy: 1.0000\n",
            "Epoch 44/50\n",
            "275/275 [==============================] - 10s 37ms/step - loss: 1.1045e-04 - accuracy: 1.0000\n",
            "Epoch 45/50\n",
            "275/275 [==============================] - 10s 37ms/step - loss: 9.5066e-05 - accuracy: 1.0000\n",
            "Epoch 46/50\n",
            "275/275 [==============================] - 10s 37ms/step - loss: 7.7596e-05 - accuracy: 1.0000\n",
            "Epoch 47/50\n",
            "275/275 [==============================] - 10s 37ms/step - loss: 6.8451e-05 - accuracy: 1.0000\n",
            "Epoch 48/50\n",
            "275/275 [==============================] - 10s 37ms/step - loss: 5.9983e-05 - accuracy: 1.0000\n",
            "Epoch 49/50\n",
            "275/275 [==============================] - 10s 38ms/step - loss: 5.2347e-05 - accuracy: 1.0000\n",
            "Epoch 50/50\n",
            "275/275 [==============================] - 11s 39ms/step - loss: 4.5467e-05 - accuracy: 1.0000\n"
          ],
          "name": "stdout"
        },
        {
          "output_type": "execute_result",
          "data": {
            "text/plain": [
              "<tensorflow.python.keras.callbacks.History at 0x7f9bd08a59b0>"
            ]
          },
          "metadata": {
            "tags": []
          },
          "execution_count": 57
        }
      ]
    },
    {
      "cell_type": "code",
      "metadata": {
        "id": "LdJlPOFiPdVX",
        "outputId": "ebeb6bff-e549-4743-a7d1-b4c4e4f60fff",
        "colab": {
          "base_uri": "https://localhost:8080/",
          "height": 52
        }
      },
      "source": [
        "accuracy = classifier.evaluate(x=X_test,y=y_test,batch_size=32)\n",
        "print(\"Accuracy: \",accuracy[1])"
      ],
      "execution_count": 58,
      "outputs": [
        {
          "output_type": "stream",
          "text": [
            "225/225 [==============================] - 2s 8ms/step - loss: 0.9221 - accuracy: 0.8723\n",
            "Accuracy:  0.8722810745239258\n"
          ],
          "name": "stdout"
        }
      ]
    },
    {
      "cell_type": "code",
      "metadata": {
        "id": "3AZM6fU2PlyV",
        "outputId": "fe029537-57ef-4fc2-d97b-960250c19795",
        "colab": {
          "base_uri": "https://localhost:8080/",
          "height": 399
        }
      },
      "source": [
        "classifier.summary()"
      ],
      "execution_count": 59,
      "outputs": [
        {
          "output_type": "stream",
          "text": [
            "Model: \"sequential_6\"\n",
            "_________________________________________________________________\n",
            "Layer (type)                 Output Shape              Param #   \n",
            "=================================================================\n",
            "conv2d_6 (Conv2D)            (None, 28, 28, 8)         80        \n",
            "_________________________________________________________________\n",
            "max_pooling2d_3 (MaxPooling2 (None, 14, 14, 8)         0         \n",
            "_________________________________________________________________\n",
            "conv2d_7 (Conv2D)            (None, 14, 14, 16)        1168      \n",
            "_________________________________________________________________\n",
            "max_pooling2d_4 (MaxPooling2 (None, 3, 3, 16)          0         \n",
            "_________________________________________________________________\n",
            "dense_14 (Dense)             (None, 3, 3, 128)         2176      \n",
            "_________________________________________________________________\n",
            "flatten (Flatten)            (None, 1152)              0         \n",
            "_________________________________________________________________\n",
            "dense_15 (Dense)             (None, 26)                29978     \n",
            "=================================================================\n",
            "Total params: 33,402\n",
            "Trainable params: 33,402\n",
            "Non-trainable params: 0\n",
            "_________________________________________________________________\n"
          ],
          "name": "stdout"
        }
      ]
    },
    {
      "cell_type": "code",
      "metadata": {
        "id": "LxzB9jRnP0uK"
      },
      "source": [
        "from keras.utils.vis_utils import plot_model"
      ],
      "execution_count": 60,
      "outputs": []
    },
    {
      "cell_type": "code",
      "metadata": {
        "id": "d-Mzp2HtP4Vo",
        "outputId": "c3be50cb-c83a-4253-9a86-ec71194b7c95",
        "colab": {
          "base_uri": "https://localhost:8080/",
          "height": 865
        }
      },
      "source": [
        "plot_model(classifier, to_file='model_plot.png', show_shapes=True, show_layer_names=True)"
      ],
      "execution_count": 61,
      "outputs": [
        {
          "output_type": "execute_result",
          "data": {
            "image/png": "[encoded data removed]",
            "text/plain": [
              "<IPython.core.display.Image object>"
            ]
          },
          "metadata": {
            "tags": []
          },
          "execution_count": 61
        }
      ]
    },
    {
      "cell_type": "code",
      "metadata": {
        "id": "LopZbru8QAMC",
        "outputId": "f33f8b8a-f52f-4ad2-ce37-8e25f6c86e23",
        "colab": {
          "base_uri": "https://localhost:8080/",
          "height": 441
        }
      },
      "source": [
        "plot_model(classifier, show_shapes=True, show_layer_names=True, to_file='model.png')\n",
        "from IPython.display import Image\n",
        "Image(retina=True, filename='model.png')"
      ],
      "execution_count": 62,
      "outputs": [
        {
          "output_type": "execute_result",
          "data": {
            "image/png": "[encoded data removed]",
            "text/plain": [
              "<IPython.core.display.Image object>"
            ]
          },
          "metadata": {
            "tags": [],
            "image/png": {
              "width": 257,
              "height": 424
            }
          },
          "execution_count": 62
        }
      ]
    },
    {
      "cell_type": "code",
      "metadata": {
        "id": "cppmu8C4QGb6",
        "outputId": "25133b14-6ef1-4104-ab59-7b66d91ffa65",
        "colab": {
          "base_uri": "https://localhost:8080/",
          "height": 35
        }
      },
      "source": [
        "classifier.save('CNNmodel.h5')\n",
        "weights_file = drive.CreateFile({'title' : 'CNNmodel.h5'})\n",
        "weights_file.SetContentFile('CNNmodel.h5')\n",
        "weights_file.Upload()\n",
        "drive.CreateFile({'id': weights_file.get('id')})"
      ],
      "execution_count": 63,
      "outputs": [
        {
          "output_type": "execute_result",
          "data": {
            "text/plain": [
              "GoogleDriveFile({'id': '1dDe5JUW64hnTDq-iptpvw5t4cyN9rlt0'})"
            ]
          },
          "metadata": {
            "tags": []
          },
          "execution_count": 63
        }
      ]
    }
  ]
}